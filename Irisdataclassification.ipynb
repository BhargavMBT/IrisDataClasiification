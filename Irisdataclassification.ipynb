{
 "cells": [
  {
   "cell_type": "code",
   "execution_count": 6,
   "metadata": {},
   "outputs": [],
   "source": [
    "import numpy as np\n",
    "import pandas as pd\n",
    "import tensorflow as tf\n",
    "from tensorflow import keras"
   ]
  },
  {
   "cell_type": "code",
   "execution_count": 7,
   "metadata": {},
   "outputs": [],
   "source": [
    "from sklearn.datasets import load_iris\n",
    "from sklearn.model_selection import train_test_split"
   ]
  },
  {
   "cell_type": "code",
   "execution_count": 8,
   "metadata": {},
   "outputs": [],
   "source": [
    "\n",
    "import matplotlib.pyplot as plt"
   ]
  },
  {
   "cell_type": "code",
   "execution_count": 9,
   "metadata": {},
   "outputs": [],
   "source": [
    "iris = load_iris()"
   ]
  },
  {
   "cell_type": "code",
   "execution_count": 11,
   "metadata": {},
   "outputs": [],
   "source": [
    "X = iris.data\n",
    "y = iris.target"
   ]
  },
  {
   "cell_type": "code",
   "execution_count": 12,
   "metadata": {},
   "outputs": [],
   "source": [
    "X_train,X_test,y_train,y_test = train_test_split(X,y,test_size=0.3, random_state = 42)"
   ]
  },
  {
   "cell_type": "code",
   "execution_count": 13,
   "metadata": {},
   "outputs": [],
   "source": [
    "keras.backend.clear_session()\n",
    "np.random.seed(42)\n",
    "tf.random.set_seed(42)"
   ]
  },
  {
   "cell_type": "code",
   "execution_count": 14,
   "metadata": {},
   "outputs": [],
   "source": [
    "model = keras.models.Sequential([\n",
    "    keras.layers.Dense(300, input_shape=(4,), activation=\"relu\"),\n",
    "    keras.layers.Dropout(rate=0.2),\n",
    "    keras.layers.Dense(100, activation=\"relu\", kernel_initializer=\"he_normal\"),\n",
    "    keras.layers.Dropout(rate=0.2),\n",
    "    keras.layers.Dense(500, activation=\"relu\", kernel_initializer=\"he_normal\"),\n",
    "    keras.layers.Dropout(rate=0.2),\n",
    "    keras.layers.Dense(3, activation='softmax')\n",
    "])"
   ]
  },
  {
   "cell_type": "code",
   "execution_count": 17,
   "metadata": {},
   "outputs": [],
   "source": [
    "model.compile(optimizer = keras.optimizers.Adam(lr=0.001), loss = \"sparse_categorical_crossentropy\", metrics = [\"accuracy\"])"
   ]
  },
  {
   "cell_type": "code",
   "execution_count": 19,
   "metadata": {},
   "outputs": [
    {
     "name": "stdout",
     "output_type": "stream",
     "text": [
      "Train on 105 samples\n",
      "Epoch 1/100\n",
      "105/105 [==============================] - 1s 6ms/sample - loss: 1.0195 - accuracy: 0.4667\n",
      "Epoch 2/100\n",
      "105/105 [==============================] - 0s 693us/sample - loss: 0.7295 - accuracy: 0.6381\n",
      "Epoch 3/100\n",
      "105/105 [==============================] - 0s 684us/sample - loss: 0.5050 - accuracy: 0.7524\n",
      "Epoch 4/100\n",
      "105/105 [==============================] - 0s 513us/sample - loss: 0.4868 - accuracy: 0.7619\n",
      "Epoch 5/100\n",
      "105/105 [==============================] - 0s 256us/sample - loss: 0.4770 - accuracy: 0.7524\n",
      "Epoch 6/100\n",
      "105/105 [==============================] - 0s 247us/sample - loss: 0.3843 - accuracy: 0.8000\n",
      "Epoch 7/100\n",
      "105/105 [==============================] - 0s 266us/sample - loss: 0.3375 - accuracy: 0.8190\n",
      "Epoch 8/100\n",
      "105/105 [==============================] - 0s 266us/sample - loss: 0.3120 - accuracy: 0.8667\n",
      "Epoch 9/100\n",
      "105/105 [==============================] - 0s 256us/sample - loss: 0.2855 - accuracy: 0.8762\n",
      "Epoch 10/100\n",
      "105/105 [==============================] - 0s 295us/sample - loss: 0.2096 - accuracy: 0.9143\n",
      "Epoch 11/100\n",
      "105/105 [==============================] - 0s 266us/sample - loss: 0.2216 - accuracy: 0.9048\n",
      "Epoch 12/100\n",
      "105/105 [==============================] - 0s 275us/sample - loss: 0.2773 - accuracy: 0.8571\n",
      "Epoch 13/100\n",
      "105/105 [==============================] - 0s 266us/sample - loss: 0.1221 - accuracy: 0.9524\n",
      "Epoch 14/100\n",
      "105/105 [==============================] - 0s 257us/sample - loss: 0.2195 - accuracy: 0.9238\n",
      "Epoch 15/100\n",
      "105/105 [==============================] - 0s 267us/sample - loss: 0.1517 - accuracy: 0.9619\n",
      "Epoch 16/100\n",
      "105/105 [==============================] - 0s 275us/sample - loss: 0.2494 - accuracy: 0.9143\n",
      "Epoch 17/100\n",
      "105/105 [==============================] - 0s 275us/sample - loss: 0.1386 - accuracy: 0.9524\n",
      "Epoch 18/100\n",
      "105/105 [==============================] - 0s 265us/sample - loss: 0.1304 - accuracy: 0.9524\n",
      "Epoch 19/100\n",
      "105/105 [==============================] - 0s 266us/sample - loss: 0.2503 - accuracy: 0.8762\n",
      "Epoch 20/100\n",
      "105/105 [==============================] - 0s 275us/sample - loss: 0.2256 - accuracy: 0.8952\n",
      "Epoch 21/100\n",
      "105/105 [==============================] - 0s 266us/sample - loss: 0.2046 - accuracy: 0.9143\n",
      "Epoch 22/100\n",
      "105/105 [==============================] - 0s 266us/sample - loss: 0.1510 - accuracy: 0.9143\n",
      "Epoch 23/100\n",
      "105/105 [==============================] - 0s 275us/sample - loss: 0.1496 - accuracy: 0.9429\n",
      "Epoch 24/100\n",
      "105/105 [==============================] - 0s 266us/sample - loss: 0.1176 - accuracy: 0.9524\n",
      "Epoch 25/100\n",
      "105/105 [==============================] - 0s 266us/sample - loss: 0.1465 - accuracy: 0.9429\n",
      "Epoch 26/100\n",
      "105/105 [==============================] - 0s 266us/sample - loss: 0.1713 - accuracy: 0.9524\n",
      "Epoch 27/100\n",
      "105/105 [==============================] - 0s 275us/sample - loss: 0.1130 - accuracy: 0.9714\n",
      "Epoch 28/100\n",
      "105/105 [==============================] - 0s 266us/sample - loss: 0.1897 - accuracy: 0.9143\n",
      "Epoch 29/100\n",
      "105/105 [==============================] - 0s 256us/sample - loss: 0.2354 - accuracy: 0.9143\n",
      "Epoch 30/100\n",
      "105/105 [==============================] - 0s 275us/sample - loss: 0.1353 - accuracy: 0.9429\n",
      "Epoch 31/100\n",
      "105/105 [==============================] - 0s 275us/sample - loss: 0.1262 - accuracy: 0.9333\n",
      "Epoch 32/100\n",
      "105/105 [==============================] - 0s 256us/sample - loss: 0.1721 - accuracy: 0.9429\n",
      "Epoch 33/100\n",
      "105/105 [==============================] - 0s 276us/sample - loss: 0.1013 - accuracy: 0.9714\n",
      "Epoch 34/100\n",
      "105/105 [==============================] - 0s 266us/sample - loss: 0.0991 - accuracy: 0.9714\n",
      "Epoch 35/100\n",
      "105/105 [==============================] - 0s 275us/sample - loss: 0.1184 - accuracy: 0.9524\n",
      "Epoch 36/100\n",
      "105/105 [==============================] - 0s 276us/sample - loss: 0.1680 - accuracy: 0.9143\n",
      "Epoch 37/100\n",
      "105/105 [==============================] - 0s 256us/sample - loss: 0.1766 - accuracy: 0.9048\n",
      "Epoch 38/100\n",
      "105/105 [==============================] - 0s 275us/sample - loss: 0.1327 - accuracy: 0.9619\n",
      "Epoch 39/100\n",
      "105/105 [==============================] - 0s 276us/sample - loss: 0.1760 - accuracy: 0.9238\n",
      "Epoch 40/100\n",
      "105/105 [==============================] - 0s 275us/sample - loss: 0.1221 - accuracy: 0.9714\n",
      "Epoch 41/100\n",
      "105/105 [==============================] - 0s 266us/sample - loss: 0.1461 - accuracy: 0.9333\n",
      "Epoch 42/100\n",
      "105/105 [==============================] - 0s 275us/sample - loss: 0.0980 - accuracy: 0.9619\n",
      "Epoch 43/100\n",
      "105/105 [==============================] - 0s 256us/sample - loss: 0.1105 - accuracy: 0.9524\n",
      "Epoch 44/100\n",
      "105/105 [==============================] - 0s 266us/sample - loss: 0.1405 - accuracy: 0.9429\n",
      "Epoch 45/100\n",
      "105/105 [==============================] - 0s 323us/sample - loss: 0.0908 - accuracy: 0.9524\n",
      "Epoch 46/100\n",
      "105/105 [==============================] - 0s 266us/sample - loss: 0.1972 - accuracy: 0.9333\n",
      "Epoch 47/100\n",
      "105/105 [==============================] - 0s 275us/sample - loss: 0.1469 - accuracy: 0.9429\n",
      "Epoch 48/100\n",
      "105/105 [==============================] - 0s 266us/sample - loss: 0.1452 - accuracy: 0.9524\n",
      "Epoch 49/100\n",
      "105/105 [==============================] - 0s 266us/sample - loss: 0.1422 - accuracy: 0.9619\n",
      "Epoch 50/100\n",
      "105/105 [==============================] - 0s 284us/sample - loss: 0.1123 - accuracy: 0.9619\n",
      "Epoch 51/100\n",
      "105/105 [==============================] - 0s 276us/sample - loss: 0.1171 - accuracy: 0.9429\n",
      "Epoch 52/100\n",
      "105/105 [==============================] - 0s 256us/sample - loss: 0.1056 - accuracy: 0.9524\n",
      "Epoch 53/100\n",
      "105/105 [==============================] - 0s 275us/sample - loss: 0.0689 - accuracy: 0.9619\n",
      "Epoch 54/100\n",
      "105/105 [==============================] - 0s 266us/sample - loss: 0.2346 - accuracy: 0.9238\n",
      "Epoch 55/100\n",
      "105/105 [==============================] - 0s 256us/sample - loss: 0.1339 - accuracy: 0.9619\n",
      "Epoch 56/100\n",
      "105/105 [==============================] - ETA: 0s - loss: 0.0059 - accuracy: 1.00 - 0s 275us/sample - loss: 0.1520 - accuracy: 0.9524\n",
      "Epoch 57/100\n",
      "105/105 [==============================] - 0s 256us/sample - loss: 0.1251 - accuracy: 0.9619\n",
      "Epoch 58/100\n",
      "105/105 [==============================] - 0s 256us/sample - loss: 0.0900 - accuracy: 0.9810\n",
      "Epoch 59/100\n",
      "105/105 [==============================] - 0s 266us/sample - loss: 0.1649 - accuracy: 0.9429\n",
      "Epoch 60/100\n",
      "105/105 [==============================] - 0s 256us/sample - loss: 0.1457 - accuracy: 0.9429\n",
      "Epoch 61/100\n",
      "105/105 [==============================] - 0s 285us/sample - loss: 0.1582 - accuracy: 0.9238\n",
      "Epoch 62/100\n",
      "105/105 [==============================] - 0s 266us/sample - loss: 0.1539 - accuracy: 0.9429\n",
      "Epoch 63/100\n",
      "105/105 [==============================] - 0s 275us/sample - loss: 0.1150 - accuracy: 0.9429\n",
      "Epoch 64/100\n",
      "105/105 [==============================] - 0s 285us/sample - loss: 0.1237 - accuracy: 0.9619\n",
      "Epoch 65/100\n",
      "105/105 [==============================] - 0s 285us/sample - loss: 0.0962 - accuracy: 0.9619\n",
      "Epoch 66/100\n",
      "105/105 [==============================] - 0s 285us/sample - loss: 0.1657 - accuracy: 0.9238\n",
      "Epoch 67/100\n",
      "105/105 [==============================] - 0s 285us/sample - loss: 0.2435 - accuracy: 0.9048\n",
      "Epoch 68/100\n",
      "105/105 [==============================] - 0s 285us/sample - loss: 0.2161 - accuracy: 0.9238\n",
      "Epoch 69/100\n",
      "105/105 [==============================] - 0s 294us/sample - loss: 0.1388 - accuracy: 0.9429\n",
      "Epoch 70/100\n",
      "105/105 [==============================] - 0s 266us/sample - loss: 0.0949 - accuracy: 0.9619\n",
      "Epoch 71/100\n",
      "105/105 [==============================] - 0s 256us/sample - loss: 0.0749 - accuracy: 0.9810\n",
      "Epoch 72/100\n",
      "105/105 [==============================] - 0s 256us/sample - loss: 0.0905 - accuracy: 0.9524\n",
      "Epoch 73/100\n",
      "105/105 [==============================] - 0s 247us/sample - loss: 0.1036 - accuracy: 0.9524\n",
      "Epoch 74/100\n",
      "105/105 [==============================] - 0s 267us/sample - loss: 0.1030 - accuracy: 0.9524\n",
      "Epoch 75/100\n",
      "105/105 [==============================] - 0s 256us/sample - loss: 0.0947 - accuracy: 0.9810\n",
      "Epoch 76/100\n",
      "105/105 [==============================] - 0s 323us/sample - loss: 0.1180 - accuracy: 0.9524\n",
      "Epoch 77/100\n",
      "105/105 [==============================] - 0s 266us/sample - loss: 0.1600 - accuracy: 0.9524\n",
      "Epoch 78/100\n",
      "105/105 [==============================] - 0s 266us/sample - loss: 0.0712 - accuracy: 0.9810\n",
      "Epoch 79/100\n",
      "105/105 [==============================] - 0s 285us/sample - loss: 0.0882 - accuracy: 0.9619\n",
      "Epoch 80/100\n",
      "105/105 [==============================] - 0s 256us/sample - loss: 0.1254 - accuracy: 0.9524\n",
      "Epoch 81/100\n",
      "105/105 [==============================] - 0s 257us/sample - loss: 0.0789 - accuracy: 0.9714\n",
      "Epoch 82/100\n",
      "105/105 [==============================] - 0s 247us/sample - loss: 0.1032 - accuracy: 0.9619\n",
      "Epoch 83/100\n",
      "105/105 [==============================] - 0s 256us/sample - loss: 0.1087 - accuracy: 0.9333\n",
      "Epoch 84/100\n",
      "105/105 [==============================] - 0s 256us/sample - loss: 0.0960 - accuracy: 0.9524\n",
      "Epoch 85/100\n",
      "105/105 [==============================] - 0s 246us/sample - loss: 0.1335 - accuracy: 0.9524\n",
      "Epoch 86/100\n",
      "105/105 [==============================] - 0s 247us/sample - loss: 0.1296 - accuracy: 0.9619\n",
      "Epoch 87/100\n",
      "105/105 [==============================] - 0s 256us/sample - loss: 0.1219 - accuracy: 0.9619\n",
      "Epoch 88/100\n",
      "105/105 [==============================] - 0s 247us/sample - loss: 0.1005 - accuracy: 0.9619\n",
      "Epoch 89/100\n",
      "105/105 [==============================] - 0s 266us/sample - loss: 0.0741 - accuracy: 0.9714\n",
      "Epoch 90/100\n",
      "105/105 [==============================] - 0s 256us/sample - loss: 0.1092 - accuracy: 0.9619\n",
      "Epoch 91/100\n",
      "105/105 [==============================] - 0s 256us/sample - loss: 0.1250 - accuracy: 0.9429\n",
      "Epoch 92/100\n",
      "105/105 [==============================] - 0s 256us/sample - loss: 0.1151 - accuracy: 0.9524\n",
      "Epoch 93/100\n",
      "105/105 [==============================] - 0s 256us/sample - loss: 0.0742 - accuracy: 0.9619\n",
      "Epoch 94/100\n",
      "105/105 [==============================] - 0s 247us/sample - loss: 0.1180 - accuracy: 0.9429\n",
      "Epoch 95/100\n",
      "105/105 [==============================] - 0s 256us/sample - loss: 0.1931 - accuracy: 0.9429\n",
      "Epoch 96/100\n",
      "105/105 [==============================] - 0s 237us/sample - loss: 0.1207 - accuracy: 0.9619\n",
      "Epoch 97/100\n",
      "105/105 [==============================] - 0s 247us/sample - loss: 0.0929 - accuracy: 0.9524\n",
      "Epoch 98/100\n",
      "105/105 [==============================] - 0s 246us/sample - loss: 0.1088 - accuracy: 0.9714\n",
      "Epoch 99/100\n",
      "105/105 [==============================] - 0s 257us/sample - loss: 0.1184 - accuracy: 0.9619\n",
      "Epoch 100/100\n",
      "105/105 [==============================] - 0s 266us/sample - loss: 0.0783 - accuracy: 0.9714\n"
     ]
    }
   ],
   "source": [
    "history = model.fit(X_train,y_train, batch_size = 5,epochs = 100)"
   ]
  },
  {
   "cell_type": "code",
   "execution_count": 24,
   "metadata": {},
   "outputs": [
    {
     "data": {
      "image/png": "[encoded data removed]",
      "text/plain": [
       "<Figure size 576x360 with 1 Axes>"
      ]
     },
     "metadata": {
      "needs_background": "light"
     },
     "output_type": "display_data"
    }
   ],
   "source": [
    "pd.DataFrame(history.history).plot(figsize=(8, 5))\n",
    "plt.grid(True)\n",
    "plt.gca().set_ylim(0, 1)\n",
    "plt.show()"
   ]
  },
  {
   "cell_type": "code",
   "execution_count": 25,
   "metadata": {},
   "outputs": [
    {
     "name": "stdout",
     "output_type": "stream",
     "text": [
      "45/45 [==============================] - 0s 2ms/sample - loss: 0.0389 - accuracy: 0.9778\n"
     ]
    }
   ],
   "source": [
    "results = model.evaluate(X_test,y_test)"
   ]
  },
  {
   "cell_type": "code",
   "execution_count": 28,
   "metadata": {},
   "outputs": [
    {
     "name": "stdout",
     "output_type": "stream",
     "text": [
      "Final test set loss: 0.038861\n",
      "Final test set accuracy: 0.977778\n"
     ]
    }
   ],
   "source": [
    "print('Final test set loss: {:4f}'.format(results[0]))\n",
    "print('Final test set accuracy: {:4f}'.format(results[1]))"
   ]
  },
  {
   "cell_type": "code",
   "execution_count": 30,
   "metadata": {},
   "outputs": [],
   "source": [
    "class_name =  iris.target_names\n"
   ]
  },
  {
   "cell_type": "code",
   "execution_count": 31,
   "metadata": {},
   "outputs": [],
   "source": [
    "X_new = X_test[:5]\n"
   ]
  },
  {
   "cell_type": "code",
   "execution_count": 32,
   "metadata": {},
   "outputs": [
    {
     "name": "stdout",
     "output_type": "stream",
     "text": [
      "['versicolor' 'setosa' 'virginica' 'versicolor' 'versicolor']\n"
     ]
    }
   ],
   "source": [
    "y_pred = model.predict_classes(X_new)\n",
    "print(np.array(class_name)[y_pred])"
   ]
  },
  {
   "cell_type": "code",
   "execution_count": 33,
   "metadata": {},
   "outputs": [
    {
     "name": "stdout",
     "output_type": "stream",
     "text": [
      "['versicolor' 'setosa' 'virginica' 'versicolor' 'versicolor']\n"
     ]
    }
   ],
   "source": [
    "y_new = y_test[:5]\n",
    "print(np.array(class_name)[y_new])"
   ]
  },
  {
   "cell_type": "code",
   "execution_count": null,
   "metadata": {},
   "outputs": [],
   "source": []
  }
 ],
 "metadata": {
  "kernelspec": {
   "display_name": "Python 3",
   "language": "python",
   "name": "python3"
  },
  "language_info": {
   "codemirror_mode": {
    "name": "ipython",
    "version": 3
   },
   "file_extension": ".py",
   "mimetype": "text/x-python",
   "name": "python",
   "nbconvert_exporter": "python",
   "pygments_lexer": "ipython3",
   "version": "3.8.3"
  }
 },
 "nbformat": 4,
 "nbformat_minor": 4
}
